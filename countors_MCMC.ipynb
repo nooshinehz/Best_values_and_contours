{
 "cells": [
  {
   "cell_type": "code",
   "execution_count": 1,
   "id": "bd4ce863",
   "metadata": {},
   "outputs": [],
   "source": [
    "%matplotlib inline\n",
    "import pandas as pd\n",
    "import numpy as np\n",
    "from scipy import stats\n",
    "\n",
    "import os\n",
    "import subprocess\n",
    "\n",
    "import seaborn as sns\n",
    "import matplotlib.mlab as mlab\n",
    "import matplotlib as ml\n",
    "import matplotlib.lines as lin\n",
    "plt = ml.pyplot\n"
   ]
  },
  {
   "cell_type": "code",
   "execution_count": 2,
   "id": "62aa5dd6",
   "metadata": {},
   "outputs": [],
   "source": [
    "from IPython.core.magic import register_line_magic\n",
    "\n",
    "@register_line_magic\n",
    "def shorterr(line):\n",
    "    \"\"\"Show only the exception message if one is raised.\"\"\"\n",
    "    try:\n",
    "        output = eval(line)\n",
    "    except Exception as e:\n",
    "        print(\"\\x1b[31m\\x1b[1m{e.__class__.__name__}: {e}\\x1b[0m\".format(e=e))\n",
    "    else:\n",
    "        return output\n",
    "    \n",
    "del shorterr"
   ]
  },
  {
   "cell_type": "markdown",
   "id": "7f3963b2",
   "metadata": {},
   "source": [
    "## Importing data and making DataFrame"
   ]
  },
  {
   "cell_type": "code",
   "execution_count": 3,
   "id": "49d2b136",
   "metadata": {},
   "outputs": [
    {
     "data": {
      "text/html": [
       "<div>\n",
       "<style scoped>\n",
       "    .dataframe tbody tr th:only-of-type {\n",
       "        vertical-align: middle;\n",
       "    }\n",
       "\n",
       "    .dataframe tbody tr th {\n",
       "        vertical-align: top;\n",
       "    }\n",
       "\n",
       "    .dataframe thead th {\n",
       "        text-align: right;\n",
       "    }\n",
       "</style>\n",
       "<table border=\"1\" class=\"dataframe\">\n",
       "  <thead>\n",
       "    <tr style=\"text-align: right;\">\n",
       "      <th></th>\n",
       "      <th>$\\Omega_m$</th>\n",
       "      <th>w</th>\n",
       "      <th>chi</th>\n",
       "    </tr>\n",
       "  </thead>\n",
       "  <tbody>\n",
       "    <tr>\n",
       "      <th>0</th>\n",
       "      <td>0.300273</td>\n",
       "      <td>-1.027751</td>\n",
       "      <td>1035.204512</td>\n",
       "    </tr>\n",
       "    <tr>\n",
       "      <th>1</th>\n",
       "      <td>0.300292</td>\n",
       "      <td>-1.030235</td>\n",
       "      <td>1035.082275</td>\n",
       "    </tr>\n",
       "    <tr>\n",
       "      <th>2</th>\n",
       "      <td>0.300292</td>\n",
       "      <td>-1.030235</td>\n",
       "      <td>1035.082275</td>\n",
       "    </tr>\n",
       "    <tr>\n",
       "      <th>3</th>\n",
       "      <td>0.297573</td>\n",
       "      <td>-1.027665</td>\n",
       "      <td>1035.031167</td>\n",
       "    </tr>\n",
       "    <tr>\n",
       "      <th>4</th>\n",
       "      <td>0.286297</td>\n",
       "      <td>-1.032088</td>\n",
       "      <td>1035.376073</td>\n",
       "    </tr>\n",
       "    <tr>\n",
       "      <th>...</th>\n",
       "      <td>...</td>\n",
       "      <td>...</td>\n",
       "      <td>...</td>\n",
       "    </tr>\n",
       "    <tr>\n",
       "      <th>49995</th>\n",
       "      <td>0.341082</td>\n",
       "      <td>-1.249296</td>\n",
       "      <td>1033.655570</td>\n",
       "    </tr>\n",
       "    <tr>\n",
       "      <th>49996</th>\n",
       "      <td>0.341914</td>\n",
       "      <td>-1.245089</td>\n",
       "      <td>1033.331768</td>\n",
       "    </tr>\n",
       "    <tr>\n",
       "      <th>49997</th>\n",
       "      <td>0.341914</td>\n",
       "      <td>-1.245089</td>\n",
       "      <td>1033.331768</td>\n",
       "    </tr>\n",
       "    <tr>\n",
       "      <th>49998</th>\n",
       "      <td>0.344221</td>\n",
       "      <td>-1.249376</td>\n",
       "      <td>1033.126465</td>\n",
       "    </tr>\n",
       "    <tr>\n",
       "      <th>49999</th>\n",
       "      <td>0.351138</td>\n",
       "      <td>-1.239604</td>\n",
       "      <td>1032.462158</td>\n",
       "    </tr>\n",
       "  </tbody>\n",
       "</table>\n",
       "<p>50000 rows × 3 columns</p>\n",
       "</div>"
      ],
      "text/plain": [
       "       $\\Omega_m$         w          chi\n",
       "0        0.300273 -1.027751  1035.204512\n",
       "1        0.300292 -1.030235  1035.082275\n",
       "2        0.300292 -1.030235  1035.082275\n",
       "3        0.297573 -1.027665  1035.031167\n",
       "4        0.286297 -1.032088  1035.376073\n",
       "...           ...       ...          ...\n",
       "49995    0.341082 -1.249296  1033.655570\n",
       "49996    0.341914 -1.245089  1033.331768\n",
       "49997    0.341914 -1.245089  1033.331768\n",
       "49998    0.344221 -1.249376  1033.126465\n",
       "49999    0.351138 -1.239604  1032.462158\n",
       "\n",
       "[50000 rows x 3 columns]"
      ]
     },
     "execution_count": 3,
     "metadata": {},
     "output_type": "execute_result"
    }
   ],
   "source": [
    "\n",
    "cwd=os.getcwd()\n",
    "path_data=cwd+'/data/Supernova-chain-50000.txt'\n",
    "\n",
    "data=np.genfromtxt(path_data)\n",
    "df=pd.DataFrame(data)\n",
    "\n",
    "# Eliminating some extra columns \n",
    "df.columns=[ 'ones', 'zeros' ,r'$\\Omega_m$', 'w', 'chi']\n",
    "df=df.drop(['ones', 'zeros'], axis=1)\n",
    "df"
   ]
  },
  {
   "cell_type": "markdown",
   "id": "0e3a9674",
   "metadata": {},
   "source": [
    "## We plot data, begining from minimun of chi column which is best value of parameters"
   ]
  },
  {
   "cell_type": "code",
   "execution_count": 4,
   "id": "323a963b",
   "metadata": {},
   "outputs": [
    {
     "data": {
      "image/png": "[encoded data removed]",
      "text/plain": [
       "<Figure size 432x288 with 1 Axes>"
      ]
     },
     "metadata": {
      "needs_background": "light"
     },
     "output_type": "display_data"
    }
   ],
   "source": [
    "first_spot=df.iloc[df[['chi']].idxmin()] # We Need ID of Minimum  Point\n",
    "fp=pd.DataFrame(first_spot)\n",
    "\n",
    "# Then We Form Parameter Space and Plot \"omega_m\" and \"w\" Columns of Minimum  Point\n",
    "\n",
    "plt.plot( fp[r'$\\Omega_m$'], fp['w'], 'ko' )\n",
    "plt.xlabel(r'$\\Omega_m$', fontsize = 18);\n",
    "plt.ylabel('w', fontsize = 18);\n"
   ]
  },
  {
   "cell_type": "markdown",
   "id": "903c641a",
   "metadata": {},
   "source": [
    "## Best value of parameters can be calculates with this formnula\n",
    "\n",
    "\n",
    "$$\n",
    "\\overline {\\theta_{0}}= 1/N \\sum_{i=0}^{N}  \\theta_{0}^{(i)}\n",
    "$$\n",
    "\n",
    "which N is the number of chains (here is 5000) and theta is our free paramter "
   ]
  },
  {
   "cell_type": "code",
   "execution_count": 5,
   "id": "c4381736",
   "metadata": {},
   "outputs": [
    {
     "data": {
      "text/html": [
       "<div>\n",
       "<style scoped>\n",
       "    .dataframe tbody tr th:only-of-type {\n",
       "        vertical-align: middle;\n",
       "    }\n",
       "\n",
       "    .dataframe tbody tr th {\n",
       "        vertical-align: top;\n",
       "    }\n",
       "\n",
       "    .dataframe thead th {\n",
       "        text-align: right;\n",
       "    }\n",
       "</style>\n",
       "<table border=\"1\" class=\"dataframe\">\n",
       "  <thead>\n",
       "    <tr style=\"text-align: right;\">\n",
       "      <th></th>\n",
       "      <th>$\\Omega_m$</th>\n",
       "      <th>w</th>\n",
       "    </tr>\n",
       "  </thead>\n",
       "  <tbody>\n",
       "    <tr>\n",
       "      <th>0</th>\n",
       "      <td>0.356314</td>\n",
       "      <td>-1.274603</td>\n",
       "    </tr>\n",
       "  </tbody>\n",
       "</table>\n",
       "</div>"
      ],
      "text/plain": [
       "   $\\Omega_m$         w\n",
       "0    0.356314 -1.274603"
      ]
     },
     "execution_count": 5,
     "metadata": {},
     "output_type": "execute_result"
    }
   ],
   "source": [
    "# omega_best= df[r'$\\Omega_m$'].mean()\n",
    "# w_best= fp['w'].mean()\n",
    "\n",
    "data=[df[r'$\\Omega_m$'].mean(), df['w'].mean()]\n",
    "\n",
    "best= pd.DataFrame(data, [r'$\\Omega_m$', 'w'])\n",
    "best= best.T\n",
    "best"
   ]
  },
  {
   "cell_type": "markdown",
   "id": "c68f85b6",
   "metadata": {},
   "source": [
    "## We import data again to plot 1$\\sigma$, 2$\\sigma$ and 3$\\sigma$ confidence levels"
   ]
  },
  {
   "cell_type": "code",
   "execution_count": 41,
   "id": "65426863",
   "metadata": {},
   "outputs": [
    {
     "data": {
      "text/plain": [
       "count    35277.000000\n",
       "mean        -1.268237\n",
       "std          0.095691\n",
       "min         -1.463372\n",
       "25%         -1.340898\n",
       "50%         -1.272926\n",
       "75%         -1.198491\n",
       "max         -1.035766\n",
       "Name: w, dtype: float64"
      ]
     },
     "execution_count": 41,
     "metadata": {},
     "output_type": "execute_result"
    },
    {
     "data": {
      "image/png": "[encoded data removed]",
      "text/plain": [
       "<Figure size 360x360 with 1 Axes>"
      ]
     },
     "metadata": {
      "needs_background": "light"
     },
     "output_type": "display_data"
    }
   ],
   "source": [
    "\n",
    "cwd = os.getcwd()\n",
    "path_data = cwd+'/data/Supernova-chain-50000.txt'\n",
    "\n",
    "data = np.genfromtxt(path_data)\n",
    "da = pd.DataFrame(data)\n",
    "da.columns = [ 'ones', 'zeros' ,r'$\\Omega_m$', 'w', 'chi']\n",
    "da = da.drop(['ones', 'zeros'], axis =1)\n",
    "\n",
    "# Forming Subsample_1 to Plot data in 1sigma confidence level (for n= 2 & CL= 68.27%, limit line of 1 sigma CL is chi-chi(min)<2.3)\n",
    "sbs_1 = da[da.chi-(da['chi'].min()) < 2.3]\n",
    "\n",
    "plt.rcParams[\"figure.figsize\"] = (5,5)\n",
    "\n",
    "a= sbs_1[r'$\\Omega_m$']\n",
    "b= sbs_1['w']\n",
    "\n",
    "plt.plot(a, b,  'mo', markersize = 1)\n",
    "plt.plot( fp[r'$\\Omega_m$'], fp['w'], 'ko' )\n",
    "plt.xlabel(r'$\\Omega_m$', fontsize = 18);\n",
    "plt.ylabel('w', fontsize = 18);\n",
    "\n",
    "\n",
    "\n",
    "# 1 sigma error for \"Omega_m\" parameter\n",
    "U_err_om_1 = (sbs_1[r'$\\Omega_m$'].max()) - (da[r'$\\Omega_m$'].mean())\n",
    "D_err_om_1 = (sbs_1[r'$\\Omega_m$'].min()) - (da[r'$\\Omega_m$'].mean())\n",
    "\n",
    "# 1 sigma error for \"w\" parameter\n",
    "U_err_w_1 = (sbs_1['w'].max()) - (da['w'].mean())\n",
    "D_err_w_1 = (sbs_1['w'].min()) - (da['w'].mean())\n",
    "\n",
    "\n",
    "\n",
    "U_err_om_1, D_err_om_1, U_err_w_1, D_err_w_1\n",
    "sbs_1['w'].describe()"
   ]
  },
  {
   "cell_type": "code",
   "execution_count": 35,
   "id": "21e7b8f6",
   "metadata": {},
   "outputs": [
    {
     "data": {
      "text/plain": [
       "count    13120.000000\n",
       "mean         0.357598\n",
       "std          0.042948\n",
       "min          0.248775\n",
       "25%          0.323220\n",
       "50%          0.369702\n",
       "75%          0.395082\n",
       "max          0.421661\n",
       "Name: $\\Omega_m$, dtype: float64"
      ]
     },
     "execution_count": 35,
     "metadata": {},
     "output_type": "execute_result"
    },
    {
     "data": {
      "image/png": "[encoded data removed]",
      "text/plain": [
       "<Figure size 360x360 with 1 Axes>"
      ]
     },
     "metadata": {
      "needs_background": "light"
     },
     "output_type": "display_data"
    }
   ],
   "source": [
    "# subsample_1=da[da.chi-(1032.4620111882687)<2.3]\n",
    "# other_than_subsample_1=da.drop(subsample_1.index)\n",
    "# db=other_than_subsample_1\n",
    "\n",
    "# Forming Subsample_2 to Plot data in 2sigma confidence level (for n= 2 & CL= 68.27%, limit line of 2sigma CL is 2.3<chi-chi(min)<6.17)\n",
    "sbs_2=da[(da.chi - (da['chi'].min()) < 6.17)  &  (2.3 < da.chi - (da['chi'].min()))]\n",
    "\n",
    "\n",
    "plt.rcParams[\"figure.figsize\"] = (5,5)\n",
    "\n",
    "\n",
    "plt.plot(sbs_1[r'$\\Omega_m$'], sbs_1['w'], 'mo', markersize = 1)\n",
    "plt.plot(sbs_2[r'$\\Omega_m$'], sbs_2['w'], 'yo', markersize = 2)\n",
    "plt.plot( fp[r'$\\Omega_m$'], fp['w'], 'ko' )\n",
    "\n",
    "\n",
    "plt.xlabel(r'$\\Omega_m$', fontsize =18);\n",
    "plt.ylabel('w', fontsize =18);\n",
    "\n",
    "# 2 sigma error for \"Omega_m\" parameter\n",
    "U_err_om_2 = (sbs_2[r'$\\Omega_m$'].max()) - (da[r'$\\Omega_m$'].mean())\n",
    "D_err_om_2 = (sbs_2[r'$\\Omega_m$'].min()) - (da[r'$\\Omega_m$'].mean())\n",
    "\n",
    "# 2 sigma error for \"w\" parameter\n",
    "U_err_w_2 = (sbs_2['w'].max()) - (da['w'].mean())\n",
    "D_err_w_2 = (sbs_2['w'].min()) - (da['w'].mean())\n",
    "\n",
    "U_err_om_2, D_err_om_2, U_err_w_2, D_err_w_2\n",
    "sbs_2[r'$\\Omega_m$'].describe()"
   ]
  },
  {
   "cell_type": "code",
   "execution_count": 36,
   "id": "ea9f97f3",
   "metadata": {},
   "outputs": [
    {
     "data": {
      "text/plain": [
       "count    1559.000000\n",
       "mean        0.351361\n",
       "std         0.057205\n",
       "min         0.228516\n",
       "25%         0.305724\n",
       "50%         0.358056\n",
       "75%         0.402302\n",
       "max         0.438425\n",
       "Name: $\\Omega_m$, dtype: float64"
      ]
     },
     "execution_count": 36,
     "metadata": {},
     "output_type": "execute_result"
    },
    {
     "data": {
      "image/png": "[encoded data removed]",
      "text/plain": [
       "<Figure size 360x360 with 1 Axes>"
      ]
     },
     "metadata": {
      "needs_background": "light"
     },
     "output_type": "display_data"
    }
   ],
   "source": [
    "\n",
    "# Forming Subsample_2 to Plot data in 2sigma confidence level (for n= 2 & CL= 68.27%, limit line of 2sigma CL is 6.17<chi-chi(min)<11.8)\n",
    "sbs_3 = da[(da.chi - (da['chi'].min()) < 11.8)  &  (6.17 < da.chi - (da['chi'].min()))]\n",
    "\n",
    "\n",
    "\n",
    "plt.plot(sbs_1[r'$\\Omega_m$'], sbs_1['w'], 'mo', markersize = 1)\n",
    "plt.plot(sbs_2[r'$\\Omega_m$'], sbs_2['w'], 'co', markersize = 2)\n",
    "plt.plot(sbs_3[r'$\\Omega_m$'], sbs_3['w'], 'bo', markersize = 2)\n",
    "plt.plot( fp[r'$\\Omega_m$'], fp['w'], 'ko', markersize=3 )\n",
    "\n",
    "plt.xlabel(r'$\\Omega_m$', fontsize =18);\n",
    "plt.ylabel('w', fontsize =18);\n",
    "\n",
    "\n",
    "# 3 sigma error for \"Omega_m\" parameter\n",
    "U_err_om_3 = (sbs_3[r'$\\Omega_m$'].max()) - (da[r'$\\Omega_m$'].mean())\n",
    "D_err_om_3 = (sbs_3[r'$\\Omega_m$'].min()) - (da[r'$\\Omega_m$'].mean())\n",
    "\n",
    "# 3 sigma error for \"w\" parameter\n",
    "U_err_w_3 = (sbs_3['w'].max()) - (da['w'].mean())\n",
    "D_err_w_3 = (sbs_3['w'].min()) - (da['w'].mean())\n",
    "\n",
    "U_err_om_3, D_err_om_3, U_err_w_3, D_err_w_3\n",
    "sbs_3[r'$\\Omega_m$'].describe()"
   ]
  },
  {
   "cell_type": "markdown",
   "id": "deb4a801",
   "metadata": {},
   "source": [
    "## ploting final confidence levels and Gaussian plots of parameters "
   ]
  },
  {
   "cell_type": "code",
   "execution_count": 37,
   "id": "483c0e4d",
   "metadata": {},
   "outputs": [
    {
     "data": {
      "image/png": "[encoded data removed]",
      "text/plain": [
       "<Figure size 576x576 with 4 Axes>"
      ]
     },
     "metadata": {
      "needs_background": "light"
     },
     "output_type": "display_data"
    }
   ],
   "source": [
    "\n",
    "# cwd=os.getcwd()\n",
    "# path_data=cwd+'/data/Supernova-chain-15000.txt'\n",
    "\n",
    "# data=np.genfromtxt(path_data)\n",
    "# dat=pd.DataFrame(data)\n",
    "# dat.columns=[ 'ones', 'zeros' ,r'$\\Omega_m$', 'w', 'chi']\n",
    "# dat=dat.drop(['ones', 'zeros'], axis=1)\n",
    "\n",
    "\n",
    "w=da['w']\n",
    "om=da[r'$\\Omega_m$']\n",
    "\n",
    "\n",
    "fig , axes= plt.subplots (nrows=2 , ncols=2, figsize=(8,8))\n",
    "\n",
    "# Ploting everythin we have till now, on axes [1,0]\n",
    "axes[1,0].plot(sbs_1[r'$\\Omega_m$'], sbs_1['w'], 'mo', markersize=1)\n",
    "axes[1,0].plot(sbs_2[r'$\\Omega_m$'], sbs_2['w'], 'co', markersize=2)\n",
    "axes[1,0].plot(sbs_3[r'$\\Omega_m$'], sbs_3['w'], 'bo', markersize=2)\n",
    "axes[1,0].plot(fp[r'$\\Omega_m$'], fp['w'], 'ko', markersize=3)\n",
    "axes[0,1].set_visible(False)\n",
    "\n",
    "\n",
    "# Ploting Gaussian plot of parameter \"w\" on axes[1,1] and \"omega_m\" on axes[0,0]\n",
    "\n",
    "#axes[1,1].hist(w, bins = 100, color='c', density=True);\n",
    "ax= sns.kdeplot(w, color='k', bw_adjust=3, ax=axes[1, 1]);\n",
    "\n",
    "# axes[0,0].hist(omega_m, bins = 100, color='c');\n",
    "ax1=sns.kdeplot(om, color='k', bw_adjust=3, ax=axes[0,0],  );\n",
    "\n",
    "\n",
    "axes[1,1].set_xlabel('w', fontsize=15);\n",
    "axes[1,0].set_ylabel('w', fontsize=15);\n",
    "axes[1,0].set_xlabel(r'$\\Omega_m$', fontsize=15 );\n",
    "axes[0,0].set_xlabel(' ');\n",
    "axes[0,0].set_ylabel(' ');\n",
    "axes[1,1].set_ylabel(' ');\n",
    "\n",
    "\n",
    "plt.savefig('contours.eps', bbox_inches=\"tight\", format='eps' )"
   ]
  },
  {
   "cell_type": "markdown",
   "id": "2f42c7e6",
   "metadata": {},
   "source": [
    "## Calculation of $\\sigma$  for parameters\n",
    "\n",
    "The formula for calculation of errors square root of variance:\n",
    "\n",
    "$$\n",
    "\\sigma_{\\theta_{0}} = \\sqrt{\\frac{1}{N} \\Sigma({\\theta_{0}^{(i)} - \\overline{\\theta_{0}}})^{2} }\n",
    "$$\n",
    "\n",
    "For each of samples the over foluma must be calulate to import errors in three confidence levels.\n",
    " "
   ]
  },
  {
   "cell_type": "code",
   "execution_count": 51,
   "id": "bde10977",
   "metadata": {},
   "outputs": [
    {
     "name": "stdout",
     "output_type": "stream",
     "text": [
      "w_1_sigma =  0.0957\n"
     ]
    }
   ],
   "source": [
    "\n",
    "# me= sbs_1[r'$\\Omega_m$'].mean()\n",
    "# a= sbs_1[r'$\\Omega_m$']\n",
    "# # om_mean= best[r'$\\Omega_m$']\n",
    "\n",
    "b= sbs_1['w']\n",
    "w_mean= best['w']\n",
    "me2= sbs_1['w'].mean()\n",
    "\n",
    "N= 35277\n",
    "\n",
    "# def om_1(om_mean):\n",
    "#     A = 0\n",
    "#     for i in range (len(a)):\n",
    "#         B= pow( (sbs_1.iloc[i][r'$\\Omega_m$'] - om_mean ),2)\n",
    "#         A += B \n",
    "#         om_1 = np.sqrt(A/N)\n",
    "#     return om_1\n",
    "\n",
    "\n",
    "def w_1(me2):\n",
    "    A = 0\n",
    "    for i in range (len(b)):\n",
    "        B= pow( (sbs_1.iloc[i]['w'] - me2 ), 2)\n",
    "        A += B \n",
    "        w_1 = np.sqrt(A/(N))\n",
    "    return w_1\n",
    "\n",
    "\n",
    "\n",
    "# print(\"omega_1_sigma = \", om_1(om_mean).round(decimals=4));\n",
    "# omega_2_sigma = \n",
    "# omega_3_sigma = \n",
    "\n",
    "\n",
    "print( \"w_1_sigma = \", w_1(me2).round(decimals=4));\n"
   ]
  },
  {
   "cell_type": "code",
   "execution_count": 49,
   "id": "da87576f",
   "metadata": {},
   "outputs": [
    {
     "data": {
      "text/html": [
       "<div>\n",
       "<style scoped>\n",
       "    .dataframe tbody tr th:only-of-type {\n",
       "        vertical-align: middle;\n",
       "    }\n",
       "\n",
       "    .dataframe tbody tr th {\n",
       "        vertical-align: top;\n",
       "    }\n",
       "\n",
       "    .dataframe thead th {\n",
       "        text-align: right;\n",
       "    }\n",
       "</style>\n",
       "<table border=\"1\" class=\"dataframe\">\n",
       "  <thead>\n",
       "    <tr style=\"text-align: right;\">\n",
       "      <th></th>\n",
       "      <th>best_value_$\\Omega$</th>\n",
       "      <th>err_(+)_om</th>\n",
       "      <th>err_(-)_om</th>\n",
       "      <th>best_value_w</th>\n",
       "      <th>err_(+)_w</th>\n",
       "      <th>err_(-)_w</th>\n",
       "    </tr>\n",
       "  </thead>\n",
       "  <tbody>\n",
       "    <tr>\n",
       "      <th>1\"$\\sigma$\"</th>\n",
       "      <td>0.356</td>\n",
       "      <td>0.041</td>\n",
       "      <td>-0.063</td>\n",
       "      <td>-1.275</td>\n",
       "      <td>0.239</td>\n",
       "      <td>-0.189</td>\n",
       "    </tr>\n",
       "    <tr>\n",
       "      <th>2\"$\\sigma$\"</th>\n",
       "      <td>0.356</td>\n",
       "      <td>0.065</td>\n",
       "      <td>-0.108</td>\n",
       "      <td>-1.275</td>\n",
       "      <td>0.354</td>\n",
       "      <td>-0.337</td>\n",
       "    </tr>\n",
       "    <tr>\n",
       "      <th>3\"$\\sigma$\"</th>\n",
       "      <td>0.356</td>\n",
       "      <td>0.082</td>\n",
       "      <td>-0.128</td>\n",
       "      <td>-1.275</td>\n",
       "      <td>0.390</td>\n",
       "      <td>-0.372</td>\n",
       "    </tr>\n",
       "  </tbody>\n",
       "</table>\n",
       "</div>"
      ],
      "text/plain": [
       "              best_value_$\\Omega$   err_(+)_om  err_(-)_om   best_value_w   \\\n",
       "1\"$\\sigma$\"                  0.356       0.041      -0.063          -1.275   \n",
       "2\"$\\sigma$\"                  0.356       0.065      -0.108          -1.275   \n",
       "3\"$\\sigma$\"                  0.356       0.082      -0.128          -1.275   \n",
       "\n",
       "             err_(+)_w  err_(-)_w  \n",
       "1\"$\\sigma$\"      0.239     -0.189  \n",
       "2\"$\\sigma$\"      0.354     -0.337  \n",
       "3\"$\\sigma$\"      0.390     -0.372  "
      ]
     },
     "execution_count": 49,
     "metadata": {},
     "output_type": "execute_result"
    }
   ],
   "source": [
    "\n",
    "\n",
    "a= best['w']\n",
    "b= best[r'$\\Omega_m$']\n",
    "\n",
    "\n",
    "data={\"err_(+)_om\":[U_err_om_1, U_err_om_2, U_err_om_3],\n",
    "      \"err_(-)_om\":[D_err_om_1, D_err_om_2, D_err_om_3],\n",
    "      \"err_(+)_w\":[U_err_w_1, U_err_w_2, U_err_w_3],\n",
    "      \"err_(-)_w\":[D_err_w_1, D_err_w_2, D_err_w_3],\n",
    "      \"best_value\": [a],\n",
    "      \"best_value_omega\": [b],\n",
    "     }\n",
    "bv_table = pd.DataFrame(data, index=['1\"$\\sigma$\"', '2\"$\\sigma$\"',  '3\"$\\sigma$\"'])\n",
    "\n",
    "\n",
    "bv_table[' best_value_$\\Omega$ ']=bv_table.best_value_omega.astype(float)\n",
    "bv_table[' best_value_w ']=bv_table.best_value.astype(float)\n",
    "\n",
    "bv_table = bv_table.drop(['best_value_omega', 'best_value'], axis=1)\n",
    "\n",
    "\n",
    "third_column = bv_table.pop('err_(+)_om')\n",
    "bv_table.insert(4, 'err_(+)_om', third_column)\n",
    "\n",
    "third_column = bv_table.pop('err_(-)_om')\n",
    "bv_table.insert(4, 'err_(-)_om', third_column)\n",
    "\n",
    "\n",
    "\n",
    "third_column = bv_table.pop('err_(+)_w')\n",
    "bv_table.insert(5, 'err_(+)_w', third_column)\n",
    "\n",
    "third_column = bv_table.pop('err_(-)_w')\n",
    "bv_table.insert(5, 'err_(-)_w', third_column)\n",
    "\n",
    "bv_table= bv_table.round(decimals=3)\n",
    "\n",
    "# Saving DataFrame table as csv file\n",
    "bv_table.to_csv('best_values.csv')\n",
    "\n",
    "bv_table"
   ]
  },
  {
   "cell_type": "code",
   "execution_count": 50,
   "id": "e2086e88",
   "metadata": {},
   "outputs": [
    {
     "data": {
      "image/png": "[encoded data removed]",
      "text/plain": [
       "<Figure size 720x432 with 1 Axes>"
      ]
     },
     "metadata": {
      "needs_background": "light"
     },
     "output_type": "display_data"
    }
   ],
   "source": [
    "import pandas as pd\n",
    "import matplotlib.pyplot as plt\n",
    "from pandas.plotting import table\n",
    "import numpy as np\n",
    "\n",
    "\n",
    "\n",
    "fig, ax = plt.subplots(figsize=(10, 6)) # set size frame\n",
    "ax.xaxis.set_visible(False)  # hide the x axis\n",
    "ax.yaxis.set_visible(False)  # hide the y axis\n",
    "ax.set_frame_on(False)  # no visible frame, uncomment if size is ok\n",
    "\n",
    "tabla = table(ax, bv_table, loc='center', colWidths=[0.17]*len(bv_table.columns))  # where bv_table is your data frame\n",
    "tabla.auto_set_font_size(False) # Activate set fontsize manually\n",
    "tabla.set_fontsize(12) # if ++fontsize is necessary ++colWidths\n",
    "tabla.scale(1.15,1.15) # change size table\n",
    "\n",
    "\n",
    "# Saving DataFrame table as figure \n",
    "plt.savefig('table.png', transparent=True, facecolor=\"#FFFFFF\")"
   ]
  },
  {
   "cell_type": "code",
   "execution_count": null,
   "id": "4eec77e1",
   "metadata": {},
   "outputs": [],
   "source": []
  },
  {
   "cell_type": "code",
   "execution_count": null,
   "id": "0515e78e",
   "metadata": {},
   "outputs": [],
   "source": []
  }
 ],
 "metadata": {
  "kernelspec": {
   "display_name": "Python 3",
   "language": "python",
   "name": "python3"
  },
  "language_info": {
   "codemirror_mode": {
    "name": "ipython",
    "version": 3
   },
   "file_extension": ".py",
   "mimetype": "text/x-python",
   "name": "python",
   "nbconvert_exporter": "python",
   "pygments_lexer": "ipython3",
   "version": "3.7.10"
  }
 },
 "nbformat": 4,
 "nbformat_minor": 5
}
